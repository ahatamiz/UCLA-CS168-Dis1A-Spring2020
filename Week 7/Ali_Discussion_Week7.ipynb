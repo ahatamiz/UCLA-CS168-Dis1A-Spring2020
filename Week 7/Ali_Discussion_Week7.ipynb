{
  "nbformat": 4,
  "nbformat_minor": 0,
  "metadata": {
    "colab": {
      "name": "Ali_Discussion_Week7.ipynb",
      "provenance": []
    },
    "kernelspec": {
      "name": "python3",
      "display_name": "Python 3"
    },
    "accelerator": "GPU"
  },
  "cells": [
    {
      "cell_type": "markdown",
      "metadata": {
        "id": "3i766uinjLEU",
        "colab_type": "text"
      },
      "source": [
        "###Week 7 Discussion - Created by Ali Hatamizadeh "
      ]
    },
    {
      "cell_type": "markdown",
      "metadata": {
        "id": "whMJnS5Z-oM5",
        "colab_type": "text"
      },
      "source": [
        "###Import Dependencies "
      ]
    },
    {
      "cell_type": "code",
      "metadata": {
        "id": "RA9pw6d4Ugkt",
        "colab_type": "code",
        "colab": {}
      },
      "source": [
        "import tensorflow as tf\n",
        "from tensorflow import keras\n",
        "from tensorflow.keras import Sequential\n",
        "from tensorflow.keras.layers import Flatten, Dense, Conv2D, MaxPool2D, ZeroPadding2D, Dropout, BatchNormalization\n",
        "from tensorflow.keras.preprocessing.image import ImageDataGenerator\n",
        "from tensorflow.keras.optimizers import SGD\n",
        "import numpy as np\n",
        "import matplotlib.pyplot as plt"
      ],
      "execution_count": 0,
      "outputs": []
    },
    {
      "cell_type": "markdown",
      "metadata": {
        "id": "MlopBTii-00t",
        "colab_type": "text"
      },
      "source": [
        "# Subset of Kaggle Cat and Dog Dataset "
      ]
    },
    {
      "cell_type": "code",
      "metadata": {
        "id": "43gQCekd-y4r",
        "colab_type": "code",
        "outputId": "0b36fbfe-8a43-4ca6-8de3-6b25775d8a45",
        "colab": {
          "base_uri": "https://localhost:8080/",
          "height": 153
        }
      },
      "source": [
        "# Subset of Kaggle Cat and Dog Dataset \n",
        "!git clone https://github.com/ahatamiz/dog-cat-full-dataset.git\n",
        "test_data_dir = '/content/dog-cat-full-dataset/data/test'\n",
        "train_data_dir = '/content/dog-cat-full-dataset/data/train'"
      ],
      "execution_count": 0,
      "outputs": [
        {
          "output_type": "stream",
          "text": [
            "Cloning into 'dog-cat-full-dataset'...\n",
            "remote: Enumerating objects: 25027, done.\u001b[K\n",
            "remote: Counting objects: 100% (25027/25027), done.\u001b[K\n",
            "remote: Compressing objects: 100% (25022/25022), done.\u001b[K\n",
            "remote: Total 25027 (delta 5), reused 25020 (delta 3), pack-reused 0\u001b[K\n",
            "Receiving objects: 100% (25027/25027), 541.62 MiB | 36.48 MiB/s, done.\n",
            "Resolving deltas: 100% (5/5), done.\n",
            "Checking out files: 100% (25001/25001), done.\n"
          ],
          "name": "stdout"
        }
      ]
    },
    {
      "cell_type": "code",
      "metadata": {
        "id": "-S7E1Tbi-zvA",
        "colab_type": "code",
        "outputId": "d6842e42-82e4-4959-ded6-c9a5c1f0dd3e",
        "colab": {
          "base_uri": "https://localhost:8080/",
          "height": 51
        }
      },
      "source": [
        "datagen=ImageDataGenerator(rescale=1./255)\n",
        "img_width=32\n",
        "img_height=32\n",
        "batch_size=20\n",
        "\n",
        "train_generator=datagen.flow_from_directory(directory=train_data_dir,\n",
        "                                            target_size=(img_width,img_height),\n",
        "                                            classes=['dogs','cats'],\n",
        "                                            class_mode='binary',\n",
        "                                            batch_size=batch_size)\n",
        "\n",
        "validation_generator=datagen.flow_from_directory(directory=test_data_dir,\n",
        "                                                 target_size=(img_width,img_height),\n",
        "                                            classes=['dogs','cats'],\n",
        "                                            class_mode='binary',\n",
        "                                            batch_size=batch_size)"
      ],
      "execution_count": 0,
      "outputs": [
        {
          "output_type": "stream",
          "text": [
            "Found 20000 images belonging to 2 classes.\n",
            "Found 5000 images belonging to 2 classes.\n"
          ],
          "name": "stdout"
        }
      ]
    },
    {
      "cell_type": "markdown",
      "metadata": {
        "id": "fpwpY4P__C78",
        "colab_type": "text"
      },
      "source": [
        "###Building the Simplest CNN Architecture Ever\n"
      ]
    },
    {
      "cell_type": "code",
      "metadata": {
        "id": "8zQt1M_V_Dgs",
        "colab_type": "code",
        "colab": {}
      },
      "source": [
        "model=Sequential()\n",
        "\n",
        "model.add(Conv2D(filters=64,kernel_size=(3,3),activation='relu',kernel_initializer='he_normal',input_shape=(img_width,img_height,3)))\n",
        "\n",
        "model.add(MaxPool2D(2,2))\n",
        "\n",
        "model.add(Flatten())\n",
        "\n",
        "model.add(Dense(128,activation='relu',kernel_initializer='he_normal'))\n",
        "\n",
        "model.add(Dense(1,activation='sigmoid'))\n",
        "\n"
      ],
      "execution_count": 0,
      "outputs": []
    },
    {
      "cell_type": "markdown",
      "metadata": {
        "id": "H755ygGV_KfT",
        "colab_type": "text"
      },
      "source": [
        "###Optimization and Compiling the Model\n"
      ]
    },
    {
      "cell_type": "code",
      "metadata": {
        "id": "xp7SIet__K6S",
        "colab_type": "code",
        "outputId": "82741c57-fa70-42b5-d6ba-5752033b4668",
        "colab": {
          "base_uri": "https://localhost:8080/",
          "height": 258
        }
      },
      "source": [
        "from tensorflow.keras.optimizers import SGD\n",
        "opt=SGD(learning_rate=0.01,momentum=0.9)\n",
        "\n",
        "model.compile(optimizer=opt,loss='binary_crossentropy',metrics=['accuracy'])\n",
        "\n",
        "history=model.fit_generator(generator=train_generator,steps_per_epoch=len(train_generator),epochs=5,validation_data=validation_generator\n",
        "                            ,validation_steps=len(validation_generator),verbose=1)\n",
        "\n"
      ],
      "execution_count": 0,
      "outputs": [
        {
          "output_type": "stream",
          "text": [
            "WARNING:tensorflow:From <ipython-input-5-c497f19d0653>:7: Model.fit_generator (from tensorflow.python.keras.engine.training) is deprecated and will be removed in a future version.\n",
            "Instructions for updating:\n",
            "Please use Model.fit, which supports generators.\n",
            "Epoch 1/5\n",
            "1000/1000 [==============================] - 61s 61ms/step - loss: 0.6996 - accuracy: 0.5084 - val_loss: 0.6933 - val_accuracy: 0.5112\n",
            "Epoch 2/5\n",
            "1000/1000 [==============================] - 60s 60ms/step - loss: 0.6720 - accuracy: 0.5788 - val_loss: 0.6130 - val_accuracy: 0.6672\n",
            "Epoch 3/5\n",
            "1000/1000 [==============================] - 64s 64ms/step - loss: 0.5703 - accuracy: 0.7038 - val_loss: 0.5499 - val_accuracy: 0.7240\n",
            "Epoch 4/5\n",
            "1000/1000 [==============================] - 68s 68ms/step - loss: 0.5129 - accuracy: 0.7458 - val_loss: 0.5326 - val_accuracy: 0.7340\n",
            "Epoch 5/5\n",
            "1000/1000 [==============================] - 65s 65ms/step - loss: 0.4693 - accuracy: 0.7753 - val_loss: 0.5678 - val_accuracy: 0.7264\n"
          ],
          "name": "stdout"
        }
      ]
    },
    {
      "cell_type": "code",
      "metadata": {
        "id": "zGHDYM5b_RYs",
        "colab_type": "code",
        "outputId": "0c967422-1003-4f81-82d7-7c884ec8fade",
        "colab": {
          "base_uri": "https://localhost:8080/",
          "height": 295
        }
      },
      "source": [
        "def plot_learningCurve(history):\n",
        "  epoch_range = range (1,6)\n",
        "  plt.plot(epoch_range,history.history['accuracy'])\n",
        "  plt.plot(epoch_range,history.history['val_accuracy'])\n",
        "\n",
        "  plt.title('Accuracy')\n",
        "  plt.xlabel('Epoch')\n",
        "  plt.ylabel('Accuracy')\n",
        "  plt.legend(['Train','Validation'],loc='upper left')\n",
        "  plt.show()\n",
        "\n",
        "plot_learningCurve(history)\n"
      ],
      "execution_count": 0,
      "outputs": [
        {
          "output_type": "display_data",
          "data": {
            "image/png": "[encoded data removed]",
            "text/plain": [
              "<Figure size 432x288 with 1 Axes>"
            ]
          },
          "metadata": {
            "tags": [],
            "needs_background": "light"
          }
        }
      ]
    },
    {
      "cell_type": "markdown",
      "metadata": {
        "id": "eO5FCWqz_S44",
        "colab_type": "text"
      },
      "source": [
        "###VGG 16 Architecture "
      ]
    },
    {
      "cell_type": "markdown",
      "metadata": {
        "id": "RMJhOmQY_WY0",
        "colab_type": "text"
      },
      "source": [
        "![alt text](https://drive.google.com/uc?id=16CUeGt6EIDDGxeMRldoSxVF6IdM1Kujf)"
      ]
    },
    {
      "cell_type": "code",
      "metadata": {
        "id": "XbEBQBh-_R1q",
        "colab_type": "code",
        "outputId": "632b5a7b-f579-4324-d0a0-2e82534b3e9f",
        "colab": {
          "base_uri": "https://localhost:8080/",
          "height": 187
        }
      },
      "source": [
        "model=Sequential()\n",
        "\n",
        "model.add(Conv2D(filters=64,kernel_size=(3,3),activation='relu',padding='same',kernel_initializer='he_normal',input_shape=(img_width,img_height,3)))\n",
        "\n",
        "model.add(MaxPool2D(2,2))\n",
        "\n",
        "\n",
        "model.add(Conv2D(filters=128,kernel_size=(3,3),activation='relu',padding='same',kernel_initializer='he_normal'))\n",
        "\n",
        "model.add(MaxPool2D(2,2))\n",
        "\n",
        "\n",
        "model.add(Conv2D(filters=256,kernel_size=(3,3),activation='relu',padding='same',kernel_initializer='he_normal'))\n",
        "\n",
        "model.add(MaxPool2D(2,2))\n",
        "\n",
        "model.add(Conv2D(filters=512,kernel_size=(3,3),activation='relu',padding='same',kernel_initializer='he_normal'))\n",
        "\n",
        "model.add(MaxPool2D(2,2))\n",
        "\n",
        "model.add(Flatten())\n",
        "\n",
        "model.add(Dense(128,activation='relu',kernel_initializer='he_normal'))\n",
        "\n",
        "model.add(Dense(1,activation='sigmoid'))\n",
        "\n",
        "\n",
        "opt=SGD(learning_rate=0.01,momentum=0.9)\n",
        "\n",
        "model.compile(optimizer=opt,loss='binary_crossentropy',metrics=['accuracy'])\n",
        "\n",
        "history=model.fit_generator(generator=train_generator,steps_per_epoch=len(train_generator),epochs=5,validation_data=validation_generator\n",
        "                            ,validation_steps=len(validation_generator),verbose=1)\n"
      ],
      "execution_count": 0,
      "outputs": [
        {
          "output_type": "stream",
          "text": [
            "Epoch 1/5\n",
            "1000/1000 [==============================] - 64s 64ms/step - loss: 0.6435 - accuracy: 0.6172 - val_loss: 0.5693 - val_accuracy: 0.7094\n",
            "Epoch 2/5\n",
            "1000/1000 [==============================] - 63s 63ms/step - loss: 0.5312 - accuracy: 0.7372 - val_loss: 0.4852 - val_accuracy: 0.7638\n",
            "Epoch 3/5\n",
            "1000/1000 [==============================] - 63s 63ms/step - loss: 0.4631 - accuracy: 0.7816 - val_loss: 0.4991 - val_accuracy: 0.7488\n",
            "Epoch 4/5\n",
            "1000/1000 [==============================] - 64s 64ms/step - loss: 0.4178 - accuracy: 0.8098 - val_loss: 0.4531 - val_accuracy: 0.7866\n",
            "Epoch 5/5\n",
            "1000/1000 [==============================] - 63s 63ms/step - loss: 0.3704 - accuracy: 0.8335 - val_loss: 0.4525 - val_accuracy: 0.7824\n"
          ],
          "name": "stdout"
        }
      ]
    },
    {
      "cell_type": "code",
      "metadata": {
        "id": "3F8TDsJe_ev2",
        "colab_type": "code",
        "outputId": "f2ddd446-679a-4df7-ff4a-3d234e752617",
        "colab": {
          "base_uri": "https://localhost:8080/",
          "height": 295
        }
      },
      "source": [
        "plot_learningCurve(history)\n"
      ],
      "execution_count": 0,
      "outputs": [
        {
          "output_type": "display_data",
          "data": {
            "image/png": "[encoded data removed]",
            "text/plain": [
              "<Figure size 432x288 with 1 Axes>"
            ]
          },
          "metadata": {
            "tags": [],
            "needs_background": "light"
          }
        }
      ]
    },
    {
      "cell_type": "markdown",
      "metadata": {
        "id": "CqaEHYvo_fMx",
        "colab_type": "text"
      },
      "source": [
        "###Adding batch normalization and drop out layers to VGG16"
      ]
    },
    {
      "cell_type": "code",
      "metadata": {
        "id": "B8bo-z7W_foz",
        "colab_type": "code",
        "outputId": "48e2ad04-6a58-40a8-d561-735182847ade",
        "colab": {
          "base_uri": "https://localhost:8080/",
          "height": 697
        }
      },
      "source": [
        "model=Sequential()\n",
        "\n",
        "model.add(Conv2D(filters=64,kernel_size=(3,3),activation='relu',padding='same',kernel_initializer='he_normal',input_shape=(img_width,img_height,3)))\n",
        "\n",
        "model.add(BatchNormalization())\n",
        "\n",
        "model.add(Dropout(0.2))\n",
        "\n",
        "model.add(MaxPool2D(2,2))\n",
        "\n",
        "\n",
        "model.add(Conv2D(filters=128,kernel_size=(3,3),activation='relu',padding='same',kernel_initializer='he_normal'))\n",
        "\n",
        "model.add(BatchNormalization())\n",
        "\n",
        "model.add(Dropout(0.2))\n",
        "\n",
        "model.add(MaxPool2D(2,2))\n",
        "\n",
        "\n",
        "model.add(Conv2D(filters=256,kernel_size=(3,3),activation='relu',padding='same',kernel_initializer='he_normal'))\n",
        "\n",
        "model.add(BatchNormalization())\n",
        "\n",
        "model.add(Dropout(0.2))\n",
        "\n",
        "model.add(MaxPool2D(2,2))\n",
        "\n",
        "model.add(Conv2D(filters=512,kernel_size=(3,3),activation='relu',padding='same',kernel_initializer='he_normal'))\n",
        "\n",
        "model.add(BatchNormalization())\n",
        "\n",
        "model.add(Dropout(0.2))\n",
        "\n",
        "model.add(MaxPool2D(2,2))\n",
        "\n",
        "model.add(Flatten())\n",
        "\n",
        "model.add(Dense(128,activation='relu',kernel_initializer='he_normal'))\n",
        "\n",
        "model.add(BatchNormalization())\n",
        "\n",
        "model.add(Dropout(0.2))\n",
        "\n",
        "model.add(Dense(1,activation='sigmoid'))\n",
        "\n",
        "\n",
        "opt=SGD(learning_rate=0.01,momentum=0.9)\n",
        "\n",
        "model.compile(optimizer=opt,loss='binary_crossentropy',metrics=['accuracy'])\n",
        "\n",
        "history=model.fit_generator(generator=train_generator,steps_per_epoch=len(train_generator),epochs=20,validation_data=validation_generator\n",
        "                            ,validation_steps=len(validation_generator),verbose=1)"
      ],
      "execution_count": 0,
      "outputs": [
        {
          "output_type": "stream",
          "text": [
            "Epoch 1/20\n",
            "1000/1000 [==============================] - 65s 65ms/step - loss: 0.6323 - accuracy: 0.6588 - val_loss: 0.6649 - val_accuracy: 0.6748\n",
            "Epoch 2/20\n",
            "1000/1000 [==============================] - 64s 64ms/step - loss: 0.5333 - accuracy: 0.7335 - val_loss: 0.5569 - val_accuracy: 0.7404\n",
            "Epoch 3/20\n",
            "1000/1000 [==============================] - 64s 64ms/step - loss: 0.4723 - accuracy: 0.7757 - val_loss: 0.4984 - val_accuracy: 0.7602\n",
            "Epoch 4/20\n",
            "1000/1000 [==============================] - 63s 63ms/step - loss: 0.4423 - accuracy: 0.7950 - val_loss: 0.5328 - val_accuracy: 0.7420\n",
            "Epoch 5/20\n",
            "1000/1000 [==============================] - 65s 65ms/step - loss: 0.4071 - accuracy: 0.8163 - val_loss: 0.6171 - val_accuracy: 0.7132\n",
            "Epoch 6/20\n",
            "1000/1000 [==============================] - 65s 65ms/step - loss: 0.3813 - accuracy: 0.8275 - val_loss: 0.5154 - val_accuracy: 0.7484\n",
            "Epoch 7/20\n",
            "1000/1000 [==============================] - 64s 64ms/step - loss: 0.3608 - accuracy: 0.8399 - val_loss: 0.4425 - val_accuracy: 0.8008\n",
            "Epoch 8/20\n",
            "1000/1000 [==============================] - 63s 63ms/step - loss: 0.3364 - accuracy: 0.8532 - val_loss: 0.5388 - val_accuracy: 0.7602\n",
            "Epoch 9/20\n",
            "1000/1000 [==============================] - 62s 62ms/step - loss: 0.3208 - accuracy: 0.8612 - val_loss: 0.4597 - val_accuracy: 0.7934\n",
            "Epoch 10/20\n",
            "1000/1000 [==============================] - 62s 62ms/step - loss: 0.2938 - accuracy: 0.8756 - val_loss: 0.4729 - val_accuracy: 0.8072\n",
            "Epoch 11/20\n",
            "1000/1000 [==============================] - 61s 61ms/step - loss: 0.2770 - accuracy: 0.8842 - val_loss: 0.4656 - val_accuracy: 0.8216\n",
            "Epoch 12/20\n",
            "1000/1000 [==============================] - 62s 62ms/step - loss: 0.2466 - accuracy: 0.8982 - val_loss: 0.4264 - val_accuracy: 0.8258\n",
            "Epoch 13/20\n",
            "1000/1000 [==============================] - 62s 62ms/step - loss: 0.2261 - accuracy: 0.9050 - val_loss: 0.4721 - val_accuracy: 0.8100\n",
            "Epoch 14/20\n",
            "1000/1000 [==============================] - 64s 64ms/step - loss: 0.2161 - accuracy: 0.9117 - val_loss: 0.4759 - val_accuracy: 0.8224\n",
            "Epoch 15/20\n",
            "1000/1000 [==============================] - 64s 64ms/step - loss: 0.1977 - accuracy: 0.9210 - val_loss: 0.4286 - val_accuracy: 0.8432\n",
            "Epoch 16/20\n",
            "1000/1000 [==============================] - 65s 65ms/step - loss: 0.1797 - accuracy: 0.9279 - val_loss: 0.5529 - val_accuracy: 0.8096\n",
            "Epoch 17/20\n",
            "1000/1000 [==============================] - 66s 66ms/step - loss: 0.1708 - accuracy: 0.9336 - val_loss: 0.5432 - val_accuracy: 0.8212\n",
            "Epoch 18/20\n",
            "1000/1000 [==============================] - 66s 66ms/step - loss: 0.1593 - accuracy: 0.9379 - val_loss: 0.4542 - val_accuracy: 0.8396\n",
            "Epoch 19/20\n",
            "1000/1000 [==============================] - 65s 65ms/step - loss: 0.1452 - accuracy: 0.9434 - val_loss: 0.5674 - val_accuracy: 0.8280\n",
            "Epoch 20/20\n",
            "1000/1000 [==============================] - 66s 66ms/step - loss: 0.1451 - accuracy: 0.9438 - val_loss: 0.5060 - val_accuracy: 0.8220\n"
          ],
          "name": "stdout"
        }
      ]
    }
  ]
}