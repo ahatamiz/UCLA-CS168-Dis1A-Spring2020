{
  "nbformat": 4,
  "nbformat_minor": 0,
  "metadata": {
    "coursera": {
      "course_slug": "convolutional-neural-networks",
      "graded_item_id": "OEpi5",
      "launcher_item_id": "jK9EQ"
    },
    "kernelspec": {
      "name": "python3",
      "display_name": "Python 3"
    },
    "language_info": {
      "codemirror_mode": {
        "name": "ipython",
        "version": 3
      },
      "file_extension": ".py",
      "mimetype": "text/x-python",
      "name": "python",
      "nbconvert_exporter": "python",
      "pygments_lexer": "ipython3",
      "version": "3.6.4"
    },
    "colab": {
      "name": "Week 8 Discussion_Ali.ipynb",
      "provenance": [],
      "collapsed_sections": []
    },
    "accelerator": "GPU"
  },
  "cells": [
    {
      "cell_type": "markdown",
      "metadata": {
        "id": "ci7JfrFM3k4I",
        "colab_type": "text"
      },
      "source": [
        "# CS 168 Week 8 Discussion --- Created by Ali Hatamizadeh \n",
        "\n",
        "### The goal of this seesion is to implementing ResNet from Scratch and train and test on CIFAR 10 Dataset.\n",
        "\n",
        "\n",
        "\n"
      ]
    },
    {
      "cell_type": "markdown",
      "metadata": {
        "id": "kptG7mDrhlRh",
        "colab_type": "text"
      },
      "source": [
        "###Import Dependencies "
      ]
    },
    {
      "cell_type": "code",
      "metadata": {
        "id": "6LD13_jJ3k4J",
        "colab_type": "code",
        "outputId": "450ea832-8388-4fdf-bf4f-f1e0ee414882",
        "colab": {
          "base_uri": "https://localhost:8080/",
          "height": 34
        }
      },
      "source": [
        "import numpy as np\n",
        "from keras import layers\n",
        "from keras.preprocessing.image import ImageDataGenerator\n",
        "from keras.layers import Input, Add, Dense, Activation, ZeroPadding2D, BatchNormalization, Flatten, Conv2D, AveragePooling2D, MaxPooling2D, GlobalMaxPooling2D,Dropout\n",
        "from keras.models import Model, load_model\n",
        "from keras.preprocessing import image\n",
        "from IPython.display import SVG\n",
        "from keras.utils.vis_utils import model_to_dot\n",
        "from keras.utils import plot_model\n",
        "from keras.initializers import glorot_uniform\n",
        "import scipy.misc\n",
        "from matplotlib.pyplot import imshow\n",
        "%matplotlib inline\n",
        "import tensorflow as tf\n",
        "import keras.backend as K\n",
        "from keras.utils import layer_utils\n",
        "from keras.utils.data_utils import get_file\n",
        "from keras.applications.imagenet_utils import preprocess_input\n",
        "import pydot\n",
        "import keras \n",
        "import matplotlib.pyplot as plt\n",
        "from keras.datasets import cifar10\n",
        "from keras.regularizers import l1\n",
        "import os\n",
        "import time\n",
        "from time import time\n",
        "\n",
        "def plot_learningCurve(history,num_epoch):\n",
        "  # Plot training & validation accuracy values\n",
        "  epoch_range = np.arange(1,num_epoch+1)\n",
        "  plt.plot(epoch_range, history.history['accuracy'])\n",
        "  plt.plot(epoch_range, history.history['val_accuracy'])\n",
        "  plt.title('Model accuracy')\n",
        "  plt.ylabel('Accuracy')\n",
        "  plt.xlabel('Epoch')\n",
        "  plt.legend(['Train', 'Val'], loc='upper left')\n",
        "  plt.show()\n",
        "\n",
        "  # Plot training & validation loss values\n",
        "  plt.plot(epoch_range, history.history['loss'])\n",
        "  plt.plot(epoch_range, history.history['val_loss'])\n",
        "  plt.title('Model loss')\n",
        "  plt.ylabel('Loss')\n",
        "  plt.xlabel('Epoch')\n",
        "  plt.legend(['Train', 'Val'], loc='upper left')\n",
        "  plt.show()\n",
        "\n"
      ],
      "execution_count": 1,
      "outputs": [
        {
          "output_type": "stream",
          "text": [
            "Using TensorFlow backend.\n"
          ],
          "name": "stderr"
        }
      ]
    },
    {
      "cell_type": "markdown",
      "metadata": {
        "id": "A_IdAYOep7vD",
        "colab_type": "text"
      },
      "source": [
        "### Identity block implementation"
      ]
    },
    {
      "cell_type": "code",
      "metadata": {
        "id": "6N8YTDtap-5v",
        "colab_type": "code",
        "colab": {}
      },
      "source": [
        "def identity_block_101(X, f, filters):\n",
        "    \"\"\"\n",
        "    Implementation of the identity block as defined in Slides\n",
        "\n",
        "    Arguments:\n",
        "    X -- input tensor of shape (m, n_H_prev, n_W_prev, n_C_prev)\n",
        "    f -- integer, specifying the shape of the middle CONV's window for the main path\n",
        "    filters -- python list of integers, defining the number of filters in the CONV layers of the main path\n",
        "    block -- string/character, used to name the layers, depending on their position in the network\n",
        "\n",
        "    Returns:\n",
        "    X -- output of the identity block, tensor of shape (n_H, n_W, n_C)\n",
        "    \"\"\"\n",
        "\n",
        "    F1, F2, F3 = filters\n",
        "\n",
        "    X_shortcut = X\n",
        "\n",
        "    X = Conv2D(filters=F1,kernel_size=(1,1),strides=(1,1),padding='valid')(X)\n",
        "    X = BatchNormalization()(X)\n",
        "    X = Activation('relu')(X)\n",
        "\n",
        "    X = Conv2D(filters=F2,kernel_size=(1,1),strides=(1,1),padding='valid')(X)\n",
        "    X = BatchNormalization()(X)\n",
        "    X = Activation('relu')(X)\n",
        "\n",
        "    X = Conv2D(filters=F3,kernel_size=(1,1),strides=(1,1),padding='valid')(X)\n",
        "    X = BatchNormalization()(X)\n",
        "\n",
        "    X = Add()([X, X_shortcut])\n",
        "\n",
        "    X = Activation('relu')(X)\n",
        "\n",
        "\n",
        "    return X"
      ],
      "execution_count": 0,
      "outputs": []
    },
    {
      "cell_type": "markdown",
      "metadata": {
        "id": "9h4O2wbyqp4J",
        "colab_type": "text"
      },
      "source": [
        "###Conv block implementation "
      ]
    },
    {
      "cell_type": "code",
      "metadata": {
        "id": "ZXJFAeD7qsZr",
        "colab_type": "code",
        "colab": {}
      },
      "source": [
        "def convolutional_block_101(X, f, filters,s):\n",
        "    \"\"\"\n",
        "    Implementation of the convolutional block as defined in Slides\n",
        "\n",
        "    Arguments:\n",
        "    X -- input tensor of shape (m, n_H_prev, n_W_prev, n_C_prev)\n",
        "    f -- integer, specifying the shape of the middle CONV's window for the main path\n",
        "    filters -- python list of integers, defining the number of filters in the CONV layers of the main path\n",
        "    stride -- Integer, specifying the stride to be used\n",
        "\n",
        "    Returns:\n",
        "    X -- output of the convolutional block, tensor of shape (n_H, n_W, n_C)\n",
        "    \"\"\"\n",
        "\n",
        "    F1, F2, F3 = filters\n",
        "\n",
        "    X_shortcut = X\n",
        "\n",
        "    X = Conv2D(filters=F1,kernel_size=(1,1),strides=(s,s),padding='valid')(X)\n",
        "    X = BatchNormalization()(X)\n",
        "    X = Activation('relu')(X)\n",
        "\n",
        "    X = Conv2D(filters=F2,kernel_size=(f,f),strides=(1,1),padding='same')(X)\n",
        "    X = BatchNormalization()(X)\n",
        "    X = Activation('relu')(X)\n",
        "\n",
        "    X = Conv2D(filters=F3,kernel_size=(1,1),strides=(1,1),padding='valid')(X)\n",
        "    X = BatchNormalization()(X)\n",
        "\n",
        "    X_shortcut = Conv2D(filters=F3,kernel_size=(1,1),strides=(s,s),padding='valid')(X_shortcut)\n",
        "    X = BatchNormalization()(X)\n",
        "\n",
        "    X = Add()([X, X_shortcut])\n",
        "    X = Activation('relu')(X)\n",
        "\n",
        "\n",
        "    return X"
      ],
      "execution_count": 0,
      "outputs": []
    },
    {
      "cell_type": "markdown",
      "metadata": {
        "id": "I40dkAK-rbou",
        "colab_type": "text"
      },
      "source": [
        "###ResNet50 implementation "
      ]
    },
    {
      "cell_type": "code",
      "metadata": {
        "id": "afPzpyWzreiV",
        "colab_type": "code",
        "colab": {}
      },
      "source": [
        "\n",
        "def ResNet50(input_shape=(32, 32, 3), classes=10):\n",
        "    \"\"\"\n",
        "    Implementation of the popular ResNet50 the following architecture:\n",
        "    CONV2D -> BATCHNORM -> RELU -> MAXPOOL -> CONVBLOCK -> IDBLOCK*2 -> CONVBLOCK -> IDBLOCK*3\n",
        "    -> CONVBLOCK -> IDBLOCK*5 -> CONVBLOCK -> IDBLOCK*2 -> AVGPOOL -> TOPLAYER\n",
        "\n",
        "    Arguments:\n",
        "    input_shape -- shape of the images of the dataset\n",
        "    classes -- integer, number of classes\n",
        "\n",
        "    Returns:\n",
        "    model -- a Model() instance in Keras\n",
        "    \"\"\"\n",
        "\n",
        "    # Define the input as a tensor with shape input_shape\n",
        "    X_input = Input(input_shape)\n",
        "\n",
        "    # Zero-Padding\n",
        "    X = ZeroPadding2D((3, 3))(X_input)\n",
        "\n",
        "    # Stage 1\n",
        "    X = Conv2D(64,(7,7),strides=(2,2))(X)\n",
        "    X = BatchNormalization()(X)\n",
        "    X = Activation('relu')(X)\n",
        "    X = MaxPooling2D((3,3),strides=(2,2))(X)\n",
        "\n",
        "    # Stage 2\n",
        "    X = convolutional_block_101(X,f=3,filters=[64,64,256],s=1)\n",
        "    X = identity_block_101(X,3,[64,64,256])\n",
        "    X = identity_block_101(X,3,[64,64,256])\n",
        "\n",
        "    # Stage 3\n",
        "    X = convolutional_block_101(X,f=3,filters=[128,128,512],s=2)\n",
        "    X = identity_block_101(X,3,[128,128,512])\n",
        "    X = identity_block_101(X,3,[128,128,512])\n",
        "    X = identity_block_101(X,3,[128,128,512])\n",
        "\n",
        "    # Stage 4\n",
        "    X = convolutional_block_101(X,f=3,filters=[256,256,1024],s=2)\n",
        "    X = identity_block_101(X,3,[256,256,1024])\n",
        "    X = identity_block_101(X,3,[256,256,1024])\n",
        "    X = identity_block_101(X,3,[256,256,1024])\n",
        "    X = identity_block_101(X,3,[256,256,1024])\n",
        "    X = identity_block_101(X,3,[256,256,1024])\n",
        "\n",
        "    #Stage 5\n",
        "    X = convolutional_block_101(X,f=3,filters=[512,512,2048],s=2)\n",
        "    X = identity_block_101(X,3,[512,512,2048])\n",
        "    X = identity_block_101(X,3,[512,512,2048])\n",
        "\n",
        "    X = AveragePooling2D(pool_size=(2,2),padding='same')(X)\n",
        "\n",
        "    X = Flatten()(X)\n",
        "    X = Dense(classes,activation='softmax')(X)\n",
        "\n",
        "    model = Model(inputs=X_input,outputs=X, name='ResNet50')\n",
        "\n",
        "\n",
        "    return model"
      ],
      "execution_count": 0,
      "outputs": []
    },
    {
      "cell_type": "markdown",
      "metadata": {
        "id": "RTHXSIVrskt9",
        "colab_type": "text"
      },
      "source": [
        "###Prepare CIFAR10 Dataset"
      ]
    },
    {
      "cell_type": "code",
      "metadata": {
        "id": "l5u2M7VHsojV",
        "colab_type": "code",
        "outputId": "a71102af-ed8c-4bc9-eb4c-98adc515b42d",
        "colab": {
          "base_uri": "https://localhost:8080/",
          "height": 70
        }
      },
      "source": [
        "batch_size = 512\n",
        "num_classes = 10\n",
        "data_augmentation = True\n",
        "\n",
        "(x_train, y_train), (x_test, y_test) = cifar10.load_data()\n",
        "print('x_train shape:', x_train.shape)\n",
        "print(x_train.shape[0], 'train samples')\n",
        "print(x_test.shape[0], 'test samples')\n",
        "\n",
        "# Convert class vectors to binary class matrices.\n",
        "y_train = keras.utils.to_categorical(y_train, num_classes)\n",
        "y_test = keras.utils.to_categorical(y_test, num_classes)\n",
        "x_train = x_train.astype('float32')\n",
        "x_test = x_test.astype('float32')\n",
        "x_train /= 255\n",
        "x_test /= 255"
      ],
      "execution_count": 5,
      "outputs": [
        {
          "output_type": "stream",
          "text": [
            "x_train shape: (50000, 32, 32, 3)\n",
            "50000 train samples\n",
            "10000 test samples\n"
          ],
          "name": "stdout"
        }
      ]
    },
    {
      "cell_type": "markdown",
      "metadata": {
        "id": "Ie4DNN3es1wQ",
        "colab_type": "text"
      },
      "source": [
        "###Set up data augmentation "
      ]
    },
    {
      "cell_type": "code",
      "metadata": {
        "id": "O5Fml8czssAH",
        "colab_type": "code",
        "colab": {}
      },
      "source": [
        "from keras.preprocessing.image import ImageDataGenerator\n",
        "\n",
        "datagen = ImageDataGenerator(\n",
        "        featurewise_center=False,  # set input mean to 0 over the dataset\n",
        "        samplewise_center=False,  # set each sample mean to 0\n",
        "        featurewise_std_normalization=False,  # divide inputs by std of the dataset\n",
        "        samplewise_std_normalization=False,  # divide each input by its std\n",
        "        zca_whitening=False,  # apply ZCA whitening\n",
        "        zca_epsilon=1e-06,  # epsilon for ZCA whitening\n",
        "        rotation_range=15,  # randomly rotate images in the range (degrees, 0 to 180)\n",
        "        # randomly shift images horizontally (fraction of total width)\n",
        "        width_shift_range=0.1,\n",
        "        # randomly shift images vertically (fraction of total height)\n",
        "        height_shift_range=0.1,\n",
        "        shear_range=0.,  # set range for random shear\n",
        "        zoom_range=0.,  # set range for random zoom\n",
        "        channel_shift_range=0.,  # set range for random channel shifts\n",
        "        # set mode for filling points outside the input boundaries\n",
        "        fill_mode='nearest',\n",
        "        cval=0.,  # value used for fill_mode = \"constant\"\n",
        "        horizontal_flip=True,  # randomly flip images\n",
        "        vertical_flip=True,  # randomly flip images\n",
        "        # set rescaling factor (applied before any other transformation)\n",
        "        rescale=None,\n",
        "        # set function that will be applied on each input\n",
        "        preprocessing_function=None,\n",
        "        # image data format, either \"channels_first\" or \"channels_last\"\n",
        "        data_format=None,\n",
        "        # fraction of images reserved for validation (strictly between 0 and 1)\n",
        "        validation_split=0.0)\n"
      ],
      "execution_count": 0,
      "outputs": []
    },
    {
      "cell_type": "markdown",
      "metadata": {
        "id": "KdPOYgtFs9KZ",
        "colab_type": "text"
      },
      "source": [
        "### Set up optimization and train the model"
      ]
    },
    {
      "cell_type": "code",
      "metadata": {
        "id": "Rn0gdtWdu8Pc",
        "colab_type": "code",
        "outputId": "ddddd1c2-38b5-4032-adfb-9d6b9edebdbc",
        "colab": {
          "base_uri": "https://localhost:8080/",
          "height": 1000
        }
      },
      "source": [
        "save_dir='/content/dog-cat-full-dataset/data/resnet'\n",
        "epochs = 100\n",
        "model = ResNet50(input_shape=(32, 32, 3), classes=10)\n",
        "opt = keras.optimizers.adam(lr=0.001, decay=1e-6)\n",
        "model.compile(loss='categorical_crossentropy',optimizer=opt,metrics=['accuracy'])\n",
        "\n",
        "\n",
        "history =model.fit_generator(datagen.flow(x_train, y_train,\n",
        "                    batch_size=batch_size),\n",
        "                    epochs=epochs,\n",
        "                    validation_data=(x_test, y_test))\n",
        "\n",
        "\n",
        "plot_learningCurve(history,epochs)\n",
        "\n",
        "if not os.path.isdir(save_dir):\n",
        "    os.makedirs(save_dir)\n",
        "\n",
        "\n",
        "model_name='resnet51'\n",
        "model_path = os.path.join(save_dir, model_name)\n",
        "model.save(model_path)\n",
        "print('Saved trained model at %s ' % model_path)\n"
      ],
      "execution_count": 7,
      "outputs": [
        {
          "output_type": "stream",
          "text": [
            "Epoch 1/100\n",
            "98/98 [==============================] - 92s 934ms/step - loss: 2.7509 - accuracy: 0.2161 - val_loss: 2.3709 - val_accuracy: 0.1000\n",
            "Epoch 2/100\n",
            "98/98 [==============================] - 58s 587ms/step - loss: 1.8839 - accuracy: 0.3161 - val_loss: 2.4370 - val_accuracy: 0.1000\n",
            "Epoch 3/100\n",
            "98/98 [==============================] - 58s 589ms/step - loss: 1.7431 - accuracy: 0.3682 - val_loss: 2.5117 - val_accuracy: 0.1562\n",
            "Epoch 4/100\n",
            "98/98 [==============================] - 58s 589ms/step - loss: 1.6818 - accuracy: 0.3947 - val_loss: 2.2746 - val_accuracy: 0.2588\n",
            "Epoch 5/100\n",
            "98/98 [==============================] - 58s 588ms/step - loss: 1.6255 - accuracy: 0.4088 - val_loss: 2.1368 - val_accuracy: 0.3213\n",
            "Epoch 6/100\n",
            "98/98 [==============================] - 58s 590ms/step - loss: 1.5808 - accuracy: 0.4302 - val_loss: 1.8006 - val_accuracy: 0.3694\n",
            "Epoch 7/100\n",
            "98/98 [==============================] - 57s 586ms/step - loss: 1.5231 - accuracy: 0.4520 - val_loss: 1.5877 - val_accuracy: 0.4230\n",
            "Epoch 8/100\n",
            "98/98 [==============================] - 58s 587ms/step - loss: 1.5536 - accuracy: 0.4473 - val_loss: 2.1442 - val_accuracy: 0.2724\n",
            "Epoch 9/100\n",
            "98/98 [==============================] - 58s 587ms/step - loss: 1.5768 - accuracy: 0.4335 - val_loss: 8.0220 - val_accuracy: 0.1604\n",
            "Epoch 10/100\n",
            "98/98 [==============================] - 58s 590ms/step - loss: 1.4947 - accuracy: 0.4624 - val_loss: 1.9357 - val_accuracy: 0.3235\n",
            "Epoch 11/100\n",
            "98/98 [==============================] - 58s 587ms/step - loss: 1.4455 - accuracy: 0.4812 - val_loss: 1.5412 - val_accuracy: 0.4476\n",
            "Epoch 12/100\n",
            "98/98 [==============================] - 58s 587ms/step - loss: 1.3652 - accuracy: 0.5033 - val_loss: 1.5650 - val_accuracy: 0.4560\n",
            "Epoch 13/100\n",
            "98/98 [==============================] - 57s 586ms/step - loss: 1.3161 - accuracy: 0.5231 - val_loss: 1.3400 - val_accuracy: 0.5060\n",
            "Epoch 14/100\n",
            "98/98 [==============================] - 57s 584ms/step - loss: 1.2891 - accuracy: 0.5335 - val_loss: 1.8133 - val_accuracy: 0.3927\n",
            "Epoch 15/100\n",
            "98/98 [==============================] - 57s 586ms/step - loss: 1.4391 - accuracy: 0.4895 - val_loss: 1.9714 - val_accuracy: 0.4254\n",
            "Epoch 16/100\n",
            "98/98 [==============================] - 57s 585ms/step - loss: 1.3717 - accuracy: 0.5137 - val_loss: 2.5150 - val_accuracy: 0.2274\n",
            "Epoch 17/100\n",
            "98/98 [==============================] - 57s 587ms/step - loss: 1.5706 - accuracy: 0.4453 - val_loss: 1.8008 - val_accuracy: 0.3986\n",
            "Epoch 18/100\n",
            "98/98 [==============================] - 57s 586ms/step - loss: 1.3537 - accuracy: 0.5188 - val_loss: 3.0300 - val_accuracy: 0.1581\n",
            "Epoch 19/100\n",
            "98/98 [==============================] - 57s 585ms/step - loss: 1.4060 - accuracy: 0.5053 - val_loss: 1.8989 - val_accuracy: 0.4383\n",
            "Epoch 20/100\n",
            "98/98 [==============================] - 57s 584ms/step - loss: 1.3442 - accuracy: 0.5262 - val_loss: 1.2854 - val_accuracy: 0.5326\n",
            "Epoch 21/100\n",
            "98/98 [==============================] - 57s 586ms/step - loss: 1.2841 - accuracy: 0.5391 - val_loss: 4.3901 - val_accuracy: 0.4115\n",
            "Epoch 22/100\n",
            "98/98 [==============================] - 57s 585ms/step - loss: 1.2776 - accuracy: 0.5436 - val_loss: 1.2758 - val_accuracy: 0.5492\n",
            "Epoch 23/100\n",
            "98/98 [==============================] - 57s 587ms/step - loss: 1.6519 - accuracy: 0.4319 - val_loss: 404.3374 - val_accuracy: 0.0934\n",
            "Epoch 24/100\n",
            "98/98 [==============================] - 57s 585ms/step - loss: 1.8187 - accuracy: 0.3586 - val_loss: 2.5977 - val_accuracy: 0.2417\n",
            "Epoch 25/100\n",
            "98/98 [==============================] - 57s 586ms/step - loss: 1.6617 - accuracy: 0.4115 - val_loss: 2.2955 - val_accuracy: 0.2241\n",
            "Epoch 26/100\n",
            "98/98 [==============================] - 57s 586ms/step - loss: 1.6380 - accuracy: 0.4152 - val_loss: 1.7780 - val_accuracy: 0.3526\n",
            "Epoch 27/100\n",
            "98/98 [==============================] - 57s 586ms/step - loss: 1.4844 - accuracy: 0.4640 - val_loss: 1.6198 - val_accuracy: 0.4285\n",
            "Epoch 28/100\n",
            "98/98 [==============================] - 57s 586ms/step - loss: 1.4951 - accuracy: 0.4663 - val_loss: 1.6856 - val_accuracy: 0.3726\n",
            "Epoch 29/100\n",
            "98/98 [==============================] - 57s 586ms/step - loss: 1.4024 - accuracy: 0.4969 - val_loss: 1.5584 - val_accuracy: 0.4440\n",
            "Epoch 30/100\n",
            "98/98 [==============================] - 57s 585ms/step - loss: 1.3642 - accuracy: 0.5098 - val_loss: 1.6785 - val_accuracy: 0.4105\n",
            "Epoch 31/100\n",
            "98/98 [==============================] - 57s 585ms/step - loss: 1.5140 - accuracy: 0.4644 - val_loss: 1423.2556 - val_accuracy: 0.1054\n",
            "Epoch 32/100\n",
            "98/98 [==============================] - 57s 584ms/step - loss: 1.5758 - accuracy: 0.4309 - val_loss: 2.5689 - val_accuracy: 0.2518\n",
            "Epoch 33/100\n",
            "98/98 [==============================] - 57s 585ms/step - loss: 1.4245 - accuracy: 0.4849 - val_loss: 1.8718 - val_accuracy: 0.3633\n",
            "Epoch 34/100\n",
            "98/98 [==============================] - 57s 584ms/step - loss: 1.3646 - accuracy: 0.5122 - val_loss: 1.7710 - val_accuracy: 0.4067\n",
            "Epoch 35/100\n",
            "98/98 [==============================] - 57s 585ms/step - loss: 1.2988 - accuracy: 0.5330 - val_loss: 1.6339 - val_accuracy: 0.4441\n",
            "Epoch 36/100\n",
            "98/98 [==============================] - 57s 586ms/step - loss: 1.3319 - accuracy: 0.5237 - val_loss: 1.5174 - val_accuracy: 0.4479\n",
            "Epoch 37/100\n",
            "98/98 [==============================] - 57s 585ms/step - loss: 1.2886 - accuracy: 0.5370 - val_loss: 1.6914 - val_accuracy: 0.4514\n",
            "Epoch 38/100\n",
            "98/98 [==============================] - 57s 585ms/step - loss: 1.2245 - accuracy: 0.5576 - val_loss: 1.2799 - val_accuracy: 0.5497\n",
            "Epoch 39/100\n",
            "98/98 [==============================] - 57s 586ms/step - loss: 1.2284 - accuracy: 0.5637 - val_loss: 1.3926 - val_accuracy: 0.5220\n",
            "Epoch 40/100\n",
            "98/98 [==============================] - 57s 585ms/step - loss: 1.2379 - accuracy: 0.5563 - val_loss: 1.3370 - val_accuracy: 0.5203\n",
            "Epoch 41/100\n",
            "98/98 [==============================] - 57s 586ms/step - loss: 1.2136 - accuracy: 0.5662 - val_loss: 2.1020 - val_accuracy: 0.3521\n",
            "Epoch 42/100\n",
            "98/98 [==============================] - 57s 586ms/step - loss: 1.2486 - accuracy: 0.5589 - val_loss: 1.8539 - val_accuracy: 0.4143\n",
            "Epoch 43/100\n",
            "98/98 [==============================] - 57s 584ms/step - loss: 1.1749 - accuracy: 0.5785 - val_loss: 1.2687 - val_accuracy: 0.5533\n",
            "Epoch 44/100\n",
            "98/98 [==============================] - 57s 586ms/step - loss: 1.2049 - accuracy: 0.5681 - val_loss: 1.8823 - val_accuracy: 0.4235\n",
            "Epoch 45/100\n",
            "98/98 [==============================] - 57s 586ms/step - loss: 1.1678 - accuracy: 0.5779 - val_loss: 1.2041 - val_accuracy: 0.5708\n",
            "Epoch 46/100\n",
            "98/98 [==============================] - 57s 586ms/step - loss: 1.1171 - accuracy: 0.5982 - val_loss: 1.1971 - val_accuracy: 0.5806\n",
            "Epoch 47/100\n",
            "98/98 [==============================] - 57s 586ms/step - loss: 1.0831 - accuracy: 0.6079 - val_loss: 1.4126 - val_accuracy: 0.5216\n",
            "Epoch 48/100\n",
            "98/98 [==============================] - 57s 584ms/step - loss: 1.0667 - accuracy: 0.6166 - val_loss: 1.2726 - val_accuracy: 0.5547\n",
            "Epoch 49/100\n",
            "98/98 [==============================] - 57s 585ms/step - loss: 1.0556 - accuracy: 0.6182 - val_loss: 1.2644 - val_accuracy: 0.5716\n",
            "Epoch 50/100\n",
            "98/98 [==============================] - 57s 585ms/step - loss: 1.0375 - accuracy: 0.6247 - val_loss: 1.1799 - val_accuracy: 0.5810\n",
            "Epoch 51/100\n",
            "98/98 [==============================] - 57s 586ms/step - loss: 1.0148 - accuracy: 0.6347 - val_loss: 1.0752 - val_accuracy: 0.6211\n",
            "Epoch 52/100\n",
            "98/98 [==============================] - 57s 585ms/step - loss: 1.0044 - accuracy: 0.6395 - val_loss: 1.2207 - val_accuracy: 0.5862\n",
            "Epoch 53/100\n",
            "98/98 [==============================] - 57s 586ms/step - loss: 1.5566 - accuracy: 0.4526 - val_loss: 13.6123 - val_accuracy: 0.2450\n",
            "Epoch 54/100\n",
            "98/98 [==============================] - 59s 600ms/step - loss: 1.4084 - accuracy: 0.5002 - val_loss: 1.6427 - val_accuracy: 0.4254\n",
            "Epoch 55/100\n",
            "98/98 [==============================] - 58s 587ms/step - loss: 1.2767 - accuracy: 0.5503 - val_loss: 1.5712 - val_accuracy: 0.4562\n",
            "Epoch 56/100\n",
            "98/98 [==============================] - 57s 586ms/step - loss: 1.2014 - accuracy: 0.5769 - val_loss: 1.3651 - val_accuracy: 0.5282\n",
            "Epoch 57/100\n",
            "98/98 [==============================] - 57s 586ms/step - loss: 1.1718 - accuracy: 0.5823 - val_loss: 1.3291 - val_accuracy: 0.5293\n",
            "Epoch 58/100\n",
            "98/98 [==============================] - 57s 585ms/step - loss: 1.1359 - accuracy: 0.5982 - val_loss: 1.1880 - val_accuracy: 0.5743\n",
            "Epoch 59/100\n",
            "98/98 [==============================] - 57s 586ms/step - loss: 1.0670 - accuracy: 0.6173 - val_loss: 1.0791 - val_accuracy: 0.6162\n",
            "Epoch 60/100\n",
            "98/98 [==============================] - 57s 585ms/step - loss: 1.0315 - accuracy: 0.6282 - val_loss: 1.0789 - val_accuracy: 0.6201\n",
            "Epoch 61/100\n",
            "98/98 [==============================] - 57s 584ms/step - loss: 1.2715 - accuracy: 0.5568 - val_loss: 1.9735 - val_accuracy: 0.3576\n",
            "Epoch 62/100\n",
            "98/98 [==============================] - 57s 584ms/step - loss: 1.2829 - accuracy: 0.5620 - val_loss: 393.7137 - val_accuracy: 0.1067\n",
            "Epoch 63/100\n",
            "98/98 [==============================] - 57s 585ms/step - loss: 1.2800 - accuracy: 0.5539 - val_loss: 1.5367 - val_accuracy: 0.4737\n",
            "Epoch 64/100\n",
            "98/98 [==============================] - 57s 584ms/step - loss: 1.2447 - accuracy: 0.5610 - val_loss: 1.2057 - val_accuracy: 0.5670\n",
            "Epoch 65/100\n",
            "98/98 [==============================] - 57s 586ms/step - loss: 1.1408 - accuracy: 0.6009 - val_loss: 2.2836 - val_accuracy: 0.4382\n",
            "Epoch 66/100\n",
            "98/98 [==============================] - 57s 585ms/step - loss: 1.1078 - accuracy: 0.6139 - val_loss: 1.1452 - val_accuracy: 0.5885\n",
            "Epoch 67/100\n",
            "98/98 [==============================] - 57s 586ms/step - loss: 1.0197 - accuracy: 0.6339 - val_loss: 1.0323 - val_accuracy: 0.6344\n",
            "Epoch 68/100\n",
            "98/98 [==============================] - 58s 587ms/step - loss: 0.9919 - accuracy: 0.6469 - val_loss: 1.2113 - val_accuracy: 0.5703\n",
            "Epoch 69/100\n",
            "98/98 [==============================] - 57s 585ms/step - loss: 0.9836 - accuracy: 0.6495 - val_loss: 1.1499 - val_accuracy: 0.5956\n",
            "Epoch 70/100\n",
            "98/98 [==============================] - 57s 586ms/step - loss: 1.0290 - accuracy: 0.6364 - val_loss: 1.0724 - val_accuracy: 0.6267\n",
            "Epoch 71/100\n",
            "98/98 [==============================] - 57s 586ms/step - loss: 0.9652 - accuracy: 0.6553 - val_loss: 1.0966 - val_accuracy: 0.6186\n",
            "Epoch 72/100\n",
            "98/98 [==============================] - 57s 587ms/step - loss: 0.9310 - accuracy: 0.6658 - val_loss: 1.0482 - val_accuracy: 0.6330\n",
            "Epoch 73/100\n",
            "98/98 [==============================] - 57s 585ms/step - loss: 0.9251 - accuracy: 0.6696 - val_loss: 1.0000 - val_accuracy: 0.6417\n",
            "Epoch 74/100\n",
            "98/98 [==============================] - 57s 585ms/step - loss: 0.9054 - accuracy: 0.6758 - val_loss: 1.3153 - val_accuracy: 0.5599\n",
            "Epoch 75/100\n",
            "98/98 [==============================] - 57s 586ms/step - loss: 1.0879 - accuracy: 0.6227 - val_loss: 1.1033 - val_accuracy: 0.6152\n",
            "Epoch 76/100\n",
            "98/98 [==============================] - 57s 585ms/step - loss: 1.1757 - accuracy: 0.6023 - val_loss: 3.8241 - val_accuracy: 0.1745\n",
            "Epoch 77/100\n",
            "98/98 [==============================] - 57s 586ms/step - loss: 1.2758 - accuracy: 0.5564 - val_loss: 1.6550 - val_accuracy: 0.4181\n",
            "Epoch 78/100\n",
            "98/98 [==============================] - 57s 586ms/step - loss: 1.1082 - accuracy: 0.6138 - val_loss: 1.6303 - val_accuracy: 0.4648\n",
            "Epoch 79/100\n",
            "98/98 [==============================] - 57s 586ms/step - loss: 1.0182 - accuracy: 0.6423 - val_loss: 1.1658 - val_accuracy: 0.5951\n",
            "Epoch 80/100\n",
            "98/98 [==============================] - 57s 586ms/step - loss: 1.0540 - accuracy: 0.6277 - val_loss: 1.2324 - val_accuracy: 0.5647\n",
            "Epoch 81/100\n",
            "98/98 [==============================] - 57s 584ms/step - loss: 1.0312 - accuracy: 0.6350 - val_loss: 1.5072 - val_accuracy: 0.5075\n",
            "Epoch 82/100\n",
            "98/98 [==============================] - 57s 583ms/step - loss: 0.9795 - accuracy: 0.6520 - val_loss: 1.0557 - val_accuracy: 0.6370\n",
            "Epoch 83/100\n",
            "98/98 [==============================] - 57s 582ms/step - loss: 0.9332 - accuracy: 0.6674 - val_loss: 1.1536 - val_accuracy: 0.6182\n",
            "Epoch 84/100\n",
            "98/98 [==============================] - 57s 583ms/step - loss: 0.9501 - accuracy: 0.6591 - val_loss: 0.9934 - val_accuracy: 0.6477\n",
            "Epoch 85/100\n",
            "98/98 [==============================] - 57s 582ms/step - loss: 0.8995 - accuracy: 0.6786 - val_loss: 0.9456 - val_accuracy: 0.6692\n",
            "Epoch 86/100\n",
            "98/98 [==============================] - 57s 584ms/step - loss: 0.8911 - accuracy: 0.6818 - val_loss: 1.4939 - val_accuracy: 0.5101\n",
            "Epoch 87/100\n",
            "98/98 [==============================] - 57s 586ms/step - loss: 0.8879 - accuracy: 0.6833 - val_loss: 0.9346 - val_accuracy: 0.6705\n",
            "Epoch 88/100\n",
            "98/98 [==============================] - 57s 586ms/step - loss: 0.8768 - accuracy: 0.6869 - val_loss: 1.0532 - val_accuracy: 0.6469\n",
            "Epoch 89/100\n",
            "98/98 [==============================] - 57s 586ms/step - loss: 0.8488 - accuracy: 0.6973 - val_loss: 0.8449 - val_accuracy: 0.7008\n",
            "Epoch 90/100\n",
            "98/98 [==============================] - 57s 583ms/step - loss: 0.8498 - accuracy: 0.6982 - val_loss: 0.9085 - val_accuracy: 0.6856\n",
            "Epoch 91/100\n",
            "98/98 [==============================] - 57s 583ms/step - loss: 0.8280 - accuracy: 0.7024 - val_loss: 0.8883 - val_accuracy: 0.6890\n",
            "Epoch 92/100\n",
            "98/98 [==============================] - 57s 583ms/step - loss: 0.8221 - accuracy: 0.7070 - val_loss: 0.9627 - val_accuracy: 0.6681\n",
            "Epoch 93/100\n",
            "98/98 [==============================] - 57s 584ms/step - loss: 0.8033 - accuracy: 0.7134 - val_loss: 0.9472 - val_accuracy: 0.6683\n",
            "Epoch 94/100\n",
            "98/98 [==============================] - 57s 584ms/step - loss: 0.8078 - accuracy: 0.7142 - val_loss: 0.8409 - val_accuracy: 0.7075\n",
            "Epoch 95/100\n",
            "98/98 [==============================] - 57s 584ms/step - loss: 0.7976 - accuracy: 0.7170 - val_loss: 1.0134 - val_accuracy: 0.6496\n",
            "Epoch 96/100\n",
            "98/98 [==============================] - 57s 586ms/step - loss: 0.7854 - accuracy: 0.7222 - val_loss: 0.9120 - val_accuracy: 0.6847\n",
            "Epoch 97/100\n",
            "98/98 [==============================] - 57s 586ms/step - loss: 0.7784 - accuracy: 0.7196 - val_loss: 0.8844 - val_accuracy: 0.6966\n",
            "Epoch 98/100\n",
            "98/98 [==============================] - 58s 591ms/step - loss: 0.7760 - accuracy: 0.7253 - val_loss: 0.8770 - val_accuracy: 0.6919\n",
            "Epoch 99/100\n",
            "98/98 [==============================] - 58s 589ms/step - loss: 0.7680 - accuracy: 0.7262 - val_loss: 0.9525 - val_accuracy: 0.6694\n",
            "Epoch 100/100\n",
            "98/98 [==============================] - 58s 589ms/step - loss: 0.7608 - accuracy: 0.7268 - val_loss: 0.8626 - val_accuracy: 0.7039\n"
          ],
          "name": "stdout"
        },
        {
          "output_type": "display_data",
          "data": {
            "image/png": "[encoded data removed]",
            "text/plain": [
              "<Figure size 432x288 with 1 Axes>"
            ]
          },
          "metadata": {
            "tags": [],
            "needs_background": "light"
          }
        },
        {
          "output_type": "display_data",
          "data": {
            "image/png": "[encoded data removed]",
            "text/plain": [
              "<Figure size 432x288 with 1 Axes>"
            ]
          },
          "metadata": {
            "tags": [],
            "needs_background": "light"
          }
        },
        {
          "output_type": "stream",
          "text": [
            "Saved trained model at /content/dog-cat-full-dataset/data/resnet/resnet51 \n"
          ],
          "name": "stdout"
        }
      ]
    },
    {
      "cell_type": "markdown",
      "metadata": {
        "id": "nfyXphn7vKOb",
        "colab_type": "text"
      },
      "source": [
        "###Test the trained model"
      ]
    },
    {
      "cell_type": "code",
      "metadata": {
        "id": "ms7M73ujvMUB",
        "colab_type": "code",
        "outputId": "e06480b0-5f55-42df-c554-f2c08196efe0",
        "colab": {
          "base_uri": "https://localhost:8080/",
          "height": 70
        }
      },
      "source": [
        "scores = model.evaluate(x_test, y_test, verbose=1)\n",
        "print('Test loss:', scores[0])\n",
        "print('Test accuracy:', scores[1])"
      ],
      "execution_count": 8,
      "outputs": [
        {
          "output_type": "stream",
          "text": [
            "10000/10000 [==============================] - 10s 1ms/step\n",
            "Test loss: 0.8625605624198913\n",
            "Test accuracy: 0.7038999795913696\n"
          ],
          "name": "stdout"
        }
      ]
    }
  ]
}